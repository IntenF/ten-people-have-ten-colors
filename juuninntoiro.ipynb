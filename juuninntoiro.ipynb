{
 "cells": [
  {
   "cell_type": "markdown",
   "metadata": {},
   "source": [
    "# 「十人十色」という四文字熟語をバカ真面目に計算してみた"
   ]
  },
  {
   "cell_type": "markdown",
   "metadata": {},
   "source": [
    "まず「十人十色」という四文字熟語の意は「考え・好み・性質などが、人によってそれぞれに異なること。」（goo辞書）というのは言わずもがなではあるが、実際十人を調べて、それが十色だったという事実は皆性質が異なると言い張るにはいささか甘い検定ではないかと理系的に思う。\n",
    "そこで、「十人十色」という事象が発生した日本（人口1億2000万人）において、その色のバラエティの豊かさについて考察する。"
   ]
  },
  {
   "cell_type": "markdown",
   "metadata": {},
   "source": [
    "本来この考察をするには色（性質、思考）のバラエティを横軸にとって、そうなる確率を示すべきではあるが、その場合どの色をどのくらいの人が共有するかを議論せねばならず、話が広がりすぎる。そこで簡単にするため、どの色も同じだけ共有する人口があると大胆な仮定を置く。つまり、ある考え方をする人の人数ははほかの考え方をする人の人数と変わらないという在りそうで無いような仮定だ。  そのうえで、Nを総人口、Scを同じ色を持つ人の数として定義する。すると、十人十色となる確率は？"
   ]
  },
  {
   "cell_type": "markdown",
   "metadata": {},
   "source": [
    "# $p(十人十色|S_c; N)= \\prod_{i=0}^9 \\frac{N - iS_c}{N -i}$"
   ]
  },
  {
   "cell_type": "code",
   "execution_count": 26,
   "metadata": {
    "collapsed": false
   },
   "outputs": [
    {
     "data": {
      "image/png": "[encoded data removed]",
      "text/plain": [
       "<matplotlib.figure.Figure at 0x1ed376bd8d0>"
      ]
     },
     "metadata": {},
     "output_type": "display_data"
    }
   ],
   "source": [
    "def juuninntoiro(N, Sc):\n",
    "    p = 1\n",
    "    for i in range(10):\n",
    "        p *= (N-i*Sc)/(N - i)\n",
    "    return p\n",
    "\n",
    "\n",
    "data = []\n",
    "N = 120000000\n",
    "for sc in range(1, N):\n",
    "    if N%sc != 0:\n",
    "        continue\n",
    "    if N//sc < 10:\n",
    "        continue\n",
    "    data.append((N, sc, juuninntoiro(N, sc)))"
   ]
  },
  {
   "cell_type": "code",
   "execution_count": 27,
   "metadata": {
    "collapsed": false
   },
   "outputs": [
    {
     "data": {
      "image/png": "[encoded data removed]",
      "text/plain": [
       "<matplotlib.figure.Figure at 0x1ed37a3dd30>"
      ]
     },
     "metadata": {},
     "output_type": "display_data"
    }
   ],
   "source": [
    "import matplotlib.pyplot as plt\n",
    "import numpy as np\n",
    "\n",
    "data = np.array(data)\n",
    "#print(data)\n",
    "\n",
    "plt.plot(data[:,1], data[:,2]*100)\n",
    "plt.show()"
   ]
  },
  {
   "cell_type": "markdown",
   "metadata": {},
   "source": [
    "## 要するに、全員違う考えなら100％十人十色になって、そうじゃないなら徐々に100%から小さくなっていく"
   ]
  },
  {
   "cell_type": "markdown",
   "metadata": {},
   "source": [
    "正直このグラフからわかることは至って当たり前のことだ。しかし、今回知りたいのはこのグラフではない。知りたいのは「十人十色だと分かったときのScの値の確からしさ」つまり、$p(Sc | 十人十色 ; N)$である。"
   ]
  },
  {
   "cell_type": "markdown",
   "metadata": {},
   "source": [
    "ここでベイズの法則の出番なわけだ。$p(Sc)=const$と置けば（実はかなりここも大胆な仮定）ベイズを用いてこの式は"
   ]
  },
  {
   "cell_type": "markdown",
   "metadata": {},
   "source": [
    "# $p(S_c | 十人十色) = \\frac{p(十人十色 | S_c)}{\\sum_{Sc}^{} p(十人十色 | S_c)}$"
   ]
  },
  {
   "cell_type": "markdown",
   "metadata": {},
   "source": [
    "という簡単な式が登場する"
   ]
  },
  {
   "cell_type": "code",
   "execution_count": 2,
   "metadata": {
    "collapsed": true
   },
   "outputs": [],
   "source": [
    "sum = data.sum()"
   ]
  },
  {
   "cell_type": "code",
   "execution_count": 3,
   "metadata": {
    "collapsed": false
   },
   "outputs": [
    {
     "data": {
      "text/plain": [
       "18450608487.82967"
      ]
     },
     "execution_count": 3,
     "metadata": {},
     "output_type": "execute_result"
    }
   ],
   "source": [
    "sum"
   ]
  },
  {
   "cell_type": "code",
   "execution_count": 4,
   "metadata": {
    "collapsed": true
   },
   "outputs": [],
   "source": [
    "sum = data[:,2].sum()"
   ]
  },
  {
   "cell_type": "code",
   "execution_count": 5,
   "metadata": {
    "collapsed": false
   },
   "outputs": [
    {
     "data": {
      "text/plain": [
       "135.8296691732794"
      ]
     },
     "execution_count": 5,
     "metadata": {},
     "output_type": "execute_result"
    }
   ],
   "source": [
    "sum"
   ]
  },
  {
   "cell_type": "code",
   "execution_count": 15,
   "metadata": {
    "collapsed": false
   },
   "outputs": [
    {
     "name": "stdout",
     "output_type": "stream",
     "text": [
      "81 0.595929326726 [  1.20000000e+08   1.25000000e+04   9.95322303e-01]\n"
     ]
    }
   ],
   "source": [
    "integral = 0\n",
    "result = 0\n",
    "for i in range(len(data)):\n",
    "    tmp = data[i][2]/sum\n",
    "    if integral+tmp >= 0.6:\n",
    "        result = i\n",
    "        break\n",
    "    integral += tmp\n",
    "print(result, integral, data[result])"
   ]
  },
  {
   "cell_type": "code",
   "execution_count": 21,
   "metadata": {
    "collapsed": false
   },
   "outputs": [],
   "source": [
    "def how_many_num(range_per):\n",
    "    integral = 0\n",
    "    result = 0\n",
    "    global data, sum\n",
    "    for i in range(len(data)):\n",
    "        tmp = data[i][2]/sum\n",
    "        if integral+tmp >= range_per/100:\n",
    "            result = i\n",
    "            break\n",
    "        integral += tmp\n",
    "    print(result, integral, data[result])"
   ]
  },
  {
   "cell_type": "markdown",
   "metadata": {},
   "source": [
    "# 「台風の天気予報でよく見るアレ」的表現"
   ]
  },
  {
   "cell_type": "markdown",
   "metadata": {},
   "source": [
    "この下の数値が表すのは「〇％の範囲では最大どのくらいの$S_c$をとり得るか」というものだ。分かりやすい例では、台風が70％の確率で進む範囲を示す円に近い。つまり、50%の確率の範囲では最大で3840人の同じ色を持つ人がいることが予想できる。これを大きいとみるか小さいとみるかは人それぞれだが、やはり十人十色という事象のみで全員違うというのはいささか言い過ぎというのはわかる。"
   ]
  },
  {
   "cell_type": "code",
   "execution_count": 22,
   "metadata": {
    "collapsed": false
   },
   "outputs": [
    {
     "name": "stdout",
     "output_type": "stream",
     "text": [
      "0%\n",
      "0 0 [  1.20000000e+08   1.00000000e+00   1.00000000e+00]\n",
      "10%\n",
      "13 0.095707791267 [  1.20000000e+08   2.50000000e+01   9.99991000e-01]\n",
      "20%\n",
      "27 0.198775486011 [  1.20000000e+08   1.28000000e+02   9.99952376e-01]\n",
      "30%\n",
      "40 0.294474363047 [  1.20000000e+08   4.80000000e+02   9.99820389e-01]\n",
      "40%\n",
      "54 0.397513294661 [  1.20000000e+08   1.50000000e+03   9.99438011e-01]\n",
      "50%\n",
      "67 0.49313597807 [  1.20000000e+08   3.84000000e+03   9.98561265e-01]\n",
      "60%\n",
      "81 0.595929326726 [  1.20000000e+08   1.25000000e+04   9.95322303e-01]\n",
      "70%\n",
      "95 0.698148218698 [  1.20000000e+08   3.84000000e+04   9.85689149e-01]\n",
      "80%\n",
      "109 0.798673601345 [  1.20000000e+08   1.20000000e+05   9.55860971e-01]\n",
      "90%\n",
      "123 0.893901658201 [  1.20000000e+08   3.75000000e+05   8.67588983e-01]\n"
     ]
    }
   ],
   "source": [
    "for i in np.arange(0,100,10):\n",
    "    print(\"{}%\".format(i))\n",
    "    how_many_num(i)"
   ]
  },
  {
   "cell_type": "code",
   "execution_count": 24,
   "metadata": {
    "collapsed": false
   },
   "outputs": [
    {
     "data": {
      "image/png": "[encoded data removed]",
      "text/plain": [
       "<matplotlib.figure.Figure at 0x1ed374c94e0>"
      ]
     },
     "metadata": {},
     "output_type": "display_data"
    }
   ],
   "source": [
    "%matplotlib inline\n",
    "plt.plot(data[:,1],data[:,2]/sum*100)\n",
    "plt.xlabel(\"number of people who have same color\")\n",
    "plt.ylabel(\"%\")\n",
    "plt.show()"
   ]
  },
  {
   "cell_type": "markdown",
   "metadata": {},
   "source": [
    "ちょっと考えれば当たり前のことだがグラフの形そのものは先述のものと全く変わらない。変わったのは縦軸のスケールだけ"
   ]
  },
  {
   "cell_type": "code",
   "execution_count": 28,
   "metadata": {
    "collapsed": false
   },
   "outputs": [
    {
     "name": "stdout",
     "output_type": "stream",
     "text": [
      "0.00736216178753\n"
     ]
    }
   ],
   "source": [
    "print(data[0,2]/sum)"
   ]
  },
  {
   "cell_type": "markdown",
   "metadata": {},
   "source": [
    "# つまりは、「十人十色」という事象で「全員違う色を持つ」と言える確率はわずか0.7％ちょいである。"
   ]
  },
  {
   "cell_type": "markdown",
   "metadata": {},
   "source": [
    "以上"
   ]
  },
  {
   "cell_type": "code",
   "execution_count": null,
   "metadata": {
    "collapsed": true
   },
   "outputs": [],
   "source": []
  }
 ],
 "metadata": {
  "kernelspec": {
   "display_name": "Python 3",
   "language": "python",
   "name": "python3"
  },
  "language_info": {
   "codemirror_mode": {
    "name": "ipython",
    "version": 3
   },
   "file_extension": ".py",
   "mimetype": "text/x-python",
   "name": "python",
   "nbconvert_exporter": "python",
   "pygments_lexer": "ipython3",
   "version": "3.6.0"
  }
 },
 "nbformat": 4,
 "nbformat_minor": 2
}
